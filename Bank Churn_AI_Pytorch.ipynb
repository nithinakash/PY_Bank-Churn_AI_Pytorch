{
 "cells": [
  {
   "cell_type": "markdown",
   "id": "645bcddb",
   "metadata": {},
   "source": [
    "### Packages Required"
   ]
  },
  {
   "cell_type": "code",
   "execution_count": 1,
   "id": "da3ee84d",
   "metadata": {},
   "outputs": [],
   "source": [
    "import numpy as np\n",
    "import pandas as pd\n",
    "import matplotlib.pyplot as plt\n",
    "\n",
    "from sklearn.model_selection import train_test_split\n",
    "from sklearn.preprocessing import StandardScaler\n",
    "from sklearn.metrics import roc_auc_score,confusion_matrix,classification_report"
   ]
  },
  {
   "cell_type": "code",
   "execution_count": 2,
   "id": "a781899b",
   "metadata": {},
   "outputs": [],
   "source": [
    "import torch\n",
    "import torch.nn as nn\n",
    "from torch.autograd import Variable\n",
    "import torch.nn.functional as F\n",
    "import torch.utils.data\n",
    "import torch.optim as optim"
   ]
  },
  {
   "cell_type": "markdown",
   "id": "8fc75513",
   "metadata": {},
   "source": [
    "### Datasets"
   ]
  },
  {
   "cell_type": "code",
   "execution_count": 4,
   "id": "af36531b",
   "metadata": {},
   "outputs": [
    {
     "data": {
      "text/html": [
       "<div>\n",
       "<style scoped>\n",
       "    .dataframe tbody tr th:only-of-type {\n",
       "        vertical-align: middle;\n",
       "    }\n",
       "\n",
       "    .dataframe tbody tr th {\n",
       "        vertical-align: top;\n",
       "    }\n",
       "\n",
       "    .dataframe thead th {\n",
       "        text-align: right;\n",
       "    }\n",
       "</style>\n",
       "<table border=\"1\" class=\"dataframe\">\n",
       "  <thead>\n",
       "    <tr style=\"text-align: right;\">\n",
       "      <th></th>\n",
       "      <th>RowNumber</th>\n",
       "      <th>CustomerId</th>\n",
       "      <th>Surname</th>\n",
       "      <th>CreditScore</th>\n",
       "      <th>Geography</th>\n",
       "      <th>Gender</th>\n",
       "      <th>Age</th>\n",
       "      <th>Tenure</th>\n",
       "      <th>Balance</th>\n",
       "      <th>NumOfProducts</th>\n",
       "      <th>HasCrCard</th>\n",
       "      <th>IsActiveMember</th>\n",
       "      <th>EstimatedSalary</th>\n",
       "      <th>Exited</th>\n",
       "    </tr>\n",
       "  </thead>\n",
       "  <tbody>\n",
       "    <tr>\n",
       "      <th>0</th>\n",
       "      <td>1</td>\n",
       "      <td>15634602</td>\n",
       "      <td>Hargrave</td>\n",
       "      <td>619</td>\n",
       "      <td>France</td>\n",
       "      <td>Female</td>\n",
       "      <td>42</td>\n",
       "      <td>2</td>\n",
       "      <td>0.00</td>\n",
       "      <td>1</td>\n",
       "      <td>1</td>\n",
       "      <td>1</td>\n",
       "      <td>101348.88</td>\n",
       "      <td>1</td>\n",
       "    </tr>\n",
       "    <tr>\n",
       "      <th>1</th>\n",
       "      <td>2</td>\n",
       "      <td>15647311</td>\n",
       "      <td>Hill</td>\n",
       "      <td>608</td>\n",
       "      <td>Spain</td>\n",
       "      <td>Female</td>\n",
       "      <td>41</td>\n",
       "      <td>1</td>\n",
       "      <td>83807.86</td>\n",
       "      <td>1</td>\n",
       "      <td>0</td>\n",
       "      <td>1</td>\n",
       "      <td>112542.58</td>\n",
       "      <td>0</td>\n",
       "    </tr>\n",
       "    <tr>\n",
       "      <th>2</th>\n",
       "      <td>3</td>\n",
       "      <td>15619304</td>\n",
       "      <td>Onio</td>\n",
       "      <td>502</td>\n",
       "      <td>France</td>\n",
       "      <td>Female</td>\n",
       "      <td>42</td>\n",
       "      <td>8</td>\n",
       "      <td>159660.80</td>\n",
       "      <td>3</td>\n",
       "      <td>1</td>\n",
       "      <td>0</td>\n",
       "      <td>113931.57</td>\n",
       "      <td>1</td>\n",
       "    </tr>\n",
       "    <tr>\n",
       "      <th>3</th>\n",
       "      <td>4</td>\n",
       "      <td>15701354</td>\n",
       "      <td>Boni</td>\n",
       "      <td>699</td>\n",
       "      <td>France</td>\n",
       "      <td>Female</td>\n",
       "      <td>39</td>\n",
       "      <td>1</td>\n",
       "      <td>0.00</td>\n",
       "      <td>2</td>\n",
       "      <td>0</td>\n",
       "      <td>0</td>\n",
       "      <td>93826.63</td>\n",
       "      <td>0</td>\n",
       "    </tr>\n",
       "    <tr>\n",
       "      <th>4</th>\n",
       "      <td>5</td>\n",
       "      <td>15737888</td>\n",
       "      <td>Mitchell</td>\n",
       "      <td>850</td>\n",
       "      <td>Spain</td>\n",
       "      <td>Female</td>\n",
       "      <td>43</td>\n",
       "      <td>2</td>\n",
       "      <td>125510.82</td>\n",
       "      <td>1</td>\n",
       "      <td>1</td>\n",
       "      <td>1</td>\n",
       "      <td>79084.10</td>\n",
       "      <td>0</td>\n",
       "    </tr>\n",
       "    <tr>\n",
       "      <th>...</th>\n",
       "      <td>...</td>\n",
       "      <td>...</td>\n",
       "      <td>...</td>\n",
       "      <td>...</td>\n",
       "      <td>...</td>\n",
       "      <td>...</td>\n",
       "      <td>...</td>\n",
       "      <td>...</td>\n",
       "      <td>...</td>\n",
       "      <td>...</td>\n",
       "      <td>...</td>\n",
       "      <td>...</td>\n",
       "      <td>...</td>\n",
       "      <td>...</td>\n",
       "    </tr>\n",
       "    <tr>\n",
       "      <th>9995</th>\n",
       "      <td>9996</td>\n",
       "      <td>15606229</td>\n",
       "      <td>Obijiaku</td>\n",
       "      <td>771</td>\n",
       "      <td>France</td>\n",
       "      <td>Male</td>\n",
       "      <td>39</td>\n",
       "      <td>5</td>\n",
       "      <td>0.00</td>\n",
       "      <td>2</td>\n",
       "      <td>1</td>\n",
       "      <td>0</td>\n",
       "      <td>96270.64</td>\n",
       "      <td>0</td>\n",
       "    </tr>\n",
       "    <tr>\n",
       "      <th>9996</th>\n",
       "      <td>9997</td>\n",
       "      <td>15569892</td>\n",
       "      <td>Johnstone</td>\n",
       "      <td>516</td>\n",
       "      <td>France</td>\n",
       "      <td>Male</td>\n",
       "      <td>35</td>\n",
       "      <td>10</td>\n",
       "      <td>57369.61</td>\n",
       "      <td>1</td>\n",
       "      <td>1</td>\n",
       "      <td>1</td>\n",
       "      <td>101699.77</td>\n",
       "      <td>0</td>\n",
       "    </tr>\n",
       "    <tr>\n",
       "      <th>9997</th>\n",
       "      <td>9998</td>\n",
       "      <td>15584532</td>\n",
       "      <td>Liu</td>\n",
       "      <td>709</td>\n",
       "      <td>France</td>\n",
       "      <td>Female</td>\n",
       "      <td>36</td>\n",
       "      <td>7</td>\n",
       "      <td>0.00</td>\n",
       "      <td>1</td>\n",
       "      <td>0</td>\n",
       "      <td>1</td>\n",
       "      <td>42085.58</td>\n",
       "      <td>1</td>\n",
       "    </tr>\n",
       "    <tr>\n",
       "      <th>9998</th>\n",
       "      <td>9999</td>\n",
       "      <td>15682355</td>\n",
       "      <td>Sabbatini</td>\n",
       "      <td>772</td>\n",
       "      <td>Germany</td>\n",
       "      <td>Male</td>\n",
       "      <td>42</td>\n",
       "      <td>3</td>\n",
       "      <td>75075.31</td>\n",
       "      <td>2</td>\n",
       "      <td>1</td>\n",
       "      <td>0</td>\n",
       "      <td>92888.52</td>\n",
       "      <td>1</td>\n",
       "    </tr>\n",
       "    <tr>\n",
       "      <th>9999</th>\n",
       "      <td>10000</td>\n",
       "      <td>15628319</td>\n",
       "      <td>Walker</td>\n",
       "      <td>792</td>\n",
       "      <td>France</td>\n",
       "      <td>Female</td>\n",
       "      <td>28</td>\n",
       "      <td>4</td>\n",
       "      <td>130142.79</td>\n",
       "      <td>1</td>\n",
       "      <td>1</td>\n",
       "      <td>0</td>\n",
       "      <td>38190.78</td>\n",
       "      <td>0</td>\n",
       "    </tr>\n",
       "  </tbody>\n",
       "</table>\n",
       "<p>10000 rows × 14 columns</p>\n",
       "</div>"
      ],
      "text/plain": [
       "      RowNumber  CustomerId    Surname  CreditScore Geography  Gender  Age  \\\n",
       "0             1    15634602   Hargrave          619    France  Female   42   \n",
       "1             2    15647311       Hill          608     Spain  Female   41   \n",
       "2             3    15619304       Onio          502    France  Female   42   \n",
       "3             4    15701354       Boni          699    France  Female   39   \n",
       "4             5    15737888   Mitchell          850     Spain  Female   43   \n",
       "...         ...         ...        ...          ...       ...     ...  ...   \n",
       "9995       9996    15606229   Obijiaku          771    France    Male   39   \n",
       "9996       9997    15569892  Johnstone          516    France    Male   35   \n",
       "9997       9998    15584532        Liu          709    France  Female   36   \n",
       "9998       9999    15682355  Sabbatini          772   Germany    Male   42   \n",
       "9999      10000    15628319     Walker          792    France  Female   28   \n",
       "\n",
       "      Tenure    Balance  NumOfProducts  HasCrCard  IsActiveMember  \\\n",
       "0          2       0.00              1          1               1   \n",
       "1          1   83807.86              1          0               1   \n",
       "2          8  159660.80              3          1               0   \n",
       "3          1       0.00              2          0               0   \n",
       "4          2  125510.82              1          1               1   \n",
       "...      ...        ...            ...        ...             ...   \n",
       "9995       5       0.00              2          1               0   \n",
       "9996      10   57369.61              1          1               1   \n",
       "9997       7       0.00              1          0               1   \n",
       "9998       3   75075.31              2          1               0   \n",
       "9999       4  130142.79              1          1               0   \n",
       "\n",
       "      EstimatedSalary  Exited  \n",
       "0           101348.88       1  \n",
       "1           112542.58       0  \n",
       "2           113931.57       1  \n",
       "3            93826.63       0  \n",
       "4            79084.10       0  \n",
       "...               ...     ...  \n",
       "9995         96270.64       0  \n",
       "9996        101699.77       0  \n",
       "9997         42085.58       1  \n",
       "9998         92888.52       1  \n",
       "9999         38190.78       0  \n",
       "\n",
       "[10000 rows x 14 columns]"
      ]
     },
     "execution_count": 4,
     "metadata": {},
     "output_type": "execute_result"
    }
   ],
   "source": [
    "df = pd.read_csv('C:/Users/Nithin/Downloads/Churn_AI_Keras/Datasets/Churn_Modelling.csv')\n",
    "df"
   ]
  },
  {
   "cell_type": "code",
   "execution_count": 5,
   "id": "d6578665",
   "metadata": {},
   "outputs": [
    {
     "name": "stdout",
     "output_type": "stream",
     "text": [
      "<class 'pandas.core.frame.DataFrame'>\n",
      "RangeIndex: 10000 entries, 0 to 9999\n",
      "Data columns (total 14 columns):\n",
      " #   Column           Non-Null Count  Dtype  \n",
      "---  ------           --------------  -----  \n",
      " 0   RowNumber        10000 non-null  int64  \n",
      " 1   CustomerId       10000 non-null  int64  \n",
      " 2   Surname          10000 non-null  object \n",
      " 3   CreditScore      10000 non-null  int64  \n",
      " 4   Geography        10000 non-null  object \n",
      " 5   Gender           10000 non-null  object \n",
      " 6   Age              10000 non-null  int64  \n",
      " 7   Tenure           10000 non-null  int64  \n",
      " 8   Balance          10000 non-null  float64\n",
      " 9   NumOfProducts    10000 non-null  int64  \n",
      " 10  HasCrCard        10000 non-null  int64  \n",
      " 11  IsActiveMember   10000 non-null  int64  \n",
      " 12  EstimatedSalary  10000 non-null  float64\n",
      " 13  Exited           10000 non-null  int64  \n",
      "dtypes: float64(2), int64(9), object(3)\n",
      "memory usage: 1.1+ MB\n"
     ]
    }
   ],
   "source": [
    "df.info()"
   ]
  },
  {
   "cell_type": "code",
   "execution_count": 6,
   "id": "b9c41358",
   "metadata": {},
   "outputs": [
    {
     "data": {
      "text/plain": [
       "RowNumber          0\n",
       "CustomerId         0\n",
       "Surname            0\n",
       "CreditScore        0\n",
       "Geography          0\n",
       "Gender             0\n",
       "Age                0\n",
       "Tenure             0\n",
       "Balance            0\n",
       "NumOfProducts      0\n",
       "HasCrCard          0\n",
       "IsActiveMember     0\n",
       "EstimatedSalary    0\n",
       "Exited             0\n",
       "dtype: int64"
      ]
     },
     "execution_count": 6,
     "metadata": {},
     "output_type": "execute_result"
    }
   ],
   "source": [
    "df.isnull().sum()"
   ]
  },
  {
   "cell_type": "markdown",
   "id": "f9ea9b03",
   "metadata": {},
   "source": [
    "**--Drop Unwanted columns**"
   ]
  },
  {
   "cell_type": "code",
   "execution_count": 7,
   "id": "1c44632d",
   "metadata": {},
   "outputs": [
    {
     "data": {
      "text/plain": [
       "Index(['RowNumber', 'CustomerId', 'Surname', 'CreditScore', 'Geography',\n",
       "       'Gender', 'Age', 'Tenure', 'Balance', 'NumOfProducts', 'HasCrCard',\n",
       "       'IsActiveMember', 'EstimatedSalary', 'Exited'],\n",
       "      dtype='object')"
      ]
     },
     "execution_count": 7,
     "metadata": {},
     "output_type": "execute_result"
    }
   ],
   "source": [
    "df.columns"
   ]
  },
  {
   "cell_type": "code",
   "execution_count": 8,
   "id": "b9560e76",
   "metadata": {},
   "outputs": [],
   "source": [
    "df.drop(columns=['RowNumber', 'CustomerId', 'Surname'],axis=1,inplace=True)"
   ]
  },
  {
   "cell_type": "code",
   "execution_count": 9,
   "id": "bb587060",
   "metadata": {},
   "outputs": [
    {
     "data": {
      "text/html": [
       "<div>\n",
       "<style scoped>\n",
       "    .dataframe tbody tr th:only-of-type {\n",
       "        vertical-align: middle;\n",
       "    }\n",
       "\n",
       "    .dataframe tbody tr th {\n",
       "        vertical-align: top;\n",
       "    }\n",
       "\n",
       "    .dataframe thead th {\n",
       "        text-align: right;\n",
       "    }\n",
       "</style>\n",
       "<table border=\"1\" class=\"dataframe\">\n",
       "  <thead>\n",
       "    <tr style=\"text-align: right;\">\n",
       "      <th></th>\n",
       "      <th>Geography</th>\n",
       "      <th>Gender</th>\n",
       "    </tr>\n",
       "  </thead>\n",
       "  <tbody>\n",
       "    <tr>\n",
       "      <th>0</th>\n",
       "      <td>France</td>\n",
       "      <td>Female</td>\n",
       "    </tr>\n",
       "    <tr>\n",
       "      <th>1</th>\n",
       "      <td>Spain</td>\n",
       "      <td>Female</td>\n",
       "    </tr>\n",
       "    <tr>\n",
       "      <th>2</th>\n",
       "      <td>France</td>\n",
       "      <td>Female</td>\n",
       "    </tr>\n",
       "    <tr>\n",
       "      <th>3</th>\n",
       "      <td>France</td>\n",
       "      <td>Female</td>\n",
       "    </tr>\n",
       "    <tr>\n",
       "      <th>4</th>\n",
       "      <td>Spain</td>\n",
       "      <td>Female</td>\n",
       "    </tr>\n",
       "    <tr>\n",
       "      <th>...</th>\n",
       "      <td>...</td>\n",
       "      <td>...</td>\n",
       "    </tr>\n",
       "    <tr>\n",
       "      <th>9995</th>\n",
       "      <td>France</td>\n",
       "      <td>Male</td>\n",
       "    </tr>\n",
       "    <tr>\n",
       "      <th>9996</th>\n",
       "      <td>France</td>\n",
       "      <td>Male</td>\n",
       "    </tr>\n",
       "    <tr>\n",
       "      <th>9997</th>\n",
       "      <td>France</td>\n",
       "      <td>Female</td>\n",
       "    </tr>\n",
       "    <tr>\n",
       "      <th>9998</th>\n",
       "      <td>Germany</td>\n",
       "      <td>Male</td>\n",
       "    </tr>\n",
       "    <tr>\n",
       "      <th>9999</th>\n",
       "      <td>France</td>\n",
       "      <td>Female</td>\n",
       "    </tr>\n",
       "  </tbody>\n",
       "</table>\n",
       "<p>10000 rows × 2 columns</p>\n",
       "</div>"
      ],
      "text/plain": [
       "     Geography  Gender\n",
       "0       France  Female\n",
       "1        Spain  Female\n",
       "2       France  Female\n",
       "3       France  Female\n",
       "4        Spain  Female\n",
       "...        ...     ...\n",
       "9995    France    Male\n",
       "9996    France    Male\n",
       "9997    France  Female\n",
       "9998   Germany    Male\n",
       "9999    France  Female\n",
       "\n",
       "[10000 rows x 2 columns]"
      ]
     },
     "execution_count": 9,
     "metadata": {},
     "output_type": "execute_result"
    }
   ],
   "source": [
    "df.select_dtypes('object')"
   ]
  },
  {
   "cell_type": "code",
   "execution_count": 10,
   "id": "ed7d2b86",
   "metadata": {},
   "outputs": [],
   "source": [
    "df_final = pd.get_dummies(df,columns=['Geography','Gender'],drop_first=True)"
   ]
  },
  {
   "cell_type": "markdown",
   "id": "53c0b18a",
   "metadata": {},
   "source": [
    "### Train Test Split"
   ]
  },
  {
   "cell_type": "code",
   "execution_count": 11,
   "id": "551c6d36",
   "metadata": {},
   "outputs": [],
   "source": [
    "x = df_final[df_final.columns.difference(['Exited'])]\n",
    "y = df_final.Exited"
   ]
  },
  {
   "cell_type": "code",
   "execution_count": 12,
   "id": "87389bbf",
   "metadata": {},
   "outputs": [],
   "source": [
    "train_x,test_x,train_y,test_y = train_test_split(x,y,test_size=0.3,random_state=123)"
   ]
  },
  {
   "cell_type": "code",
   "execution_count": 22,
   "id": "aca06438",
   "metadata": {},
   "outputs": [],
   "source": [
    "sc = StandardScaler()\n",
    "train_x_std = sc.fit_transform(train_x)\n",
    "test_x_std = sc.transform(test_x)"
   ]
  },
  {
   "cell_type": "code",
   "execution_count": null,
   "id": "6751e019",
   "metadata": {},
   "outputs": [],
   "source": [
    "#Tensor conversion\n",
    "train_x_std = torch.from_numpy(train_x_std)\n",
    "train_y = torch.from_numpy(train_y.values).view(-1,1)\n",
    "test_x_std = torch.from_numpy(test_x_std)\n",
    "test_y = torch.from_numpy(test_y.values).view(-1,1)"
   ]
  },
  {
   "cell_type": "code",
   "execution_count": 24,
   "id": "4f4595c8",
   "metadata": {},
   "outputs": [
    {
     "data": {
      "text/plain": [
       "torch.Size([7000, 11])"
      ]
     },
     "execution_count": 24,
     "metadata": {},
     "output_type": "execute_result"
    }
   ],
   "source": [
    "train_x_std.shape"
   ]
  },
  {
   "cell_type": "markdown",
   "id": "888aa26a",
   "metadata": {},
   "source": [
    "### Model"
   ]
  },
  {
   "cell_type": "code",
   "execution_count": 36,
   "id": "d44bfa92",
   "metadata": {},
   "outputs": [],
   "source": [
    "class ANN(nn.Module):\n",
    "    def __init__(self, input_dim = 11, output_dim = 1):\n",
    "        super(ANN, self).__init__()\n",
    "        self.fc1 = nn.Linear(input_dim, 6) #Hidden Layer 1\n",
    "        self.fc2 = nn.Linear(6, 6)         #Hidden Layer2\n",
    "        self.output_layer = nn.Linear(6,output_dim) #Output Layer\n",
    "\n",
    "    \n",
    "    # Feed Forward Function\n",
    "    def forward(self, x):\n",
    "        x = F.relu(self.fc1(x))    # Add ReLU activation function to each layer\n",
    "        x = F.relu(self.fc2(x))\n",
    "        x = F.sigmoid(self.output_layer(x))\n",
    "        return x     # Return the created model"
   ]
  },
  {
   "cell_type": "code",
   "execution_count": 37,
   "id": "cfb3f134",
   "metadata": {},
   "outputs": [],
   "source": [
    "# Hyper-parameters\n",
    "input_size = 11\n",
    "output_size = 1\n",
    "num_epochs = 1000\n",
    "learning_rate = 0.01"
   ]
  },
  {
   "cell_type": "code",
   "execution_count": 38,
   "id": "3b80a0ff",
   "metadata": {},
   "outputs": [
    {
     "name": "stdout",
     "output_type": "stream",
     "text": [
      "ANN(\n",
      "  (fc1): Linear(in_features=11, out_features=6, bias=True)\n",
      "  (fc2): Linear(in_features=6, out_features=6, bias=True)\n",
      "  (output_layer): Linear(in_features=6, out_features=1, bias=True)\n",
      ")\n"
     ]
    }
   ],
   "source": [
    "M0 = ANN(input_dim=input_size,output_dim=output_size)\n",
    "print(M0)"
   ]
  },
  {
   "cell_type": "code",
   "execution_count": 39,
   "id": "2e74ca4e",
   "metadata": {},
   "outputs": [],
   "source": [
    "#loss\n",
    "criterion = nn.BCELoss()\n",
    "#optimizers\n",
    "optimizer = optim.Adam(M0.parameters(), lr=learning_rate)"
   ]
  },
  {
   "cell_type": "code",
   "execution_count": null,
   "id": "4b4c3d8c",
   "metadata": {},
   "outputs": [],
   "source": [
    "criterion(y_pred_test.squeeze(), target_test) "
   ]
  },
  {
   "cell_type": "code",
   "execution_count": 57,
   "id": "08e21e73",
   "metadata": {},
   "outputs": [
    {
     "data": {
      "text/plain": [
       "torch.Size([3000, 1])"
      ]
     },
     "execution_count": 57,
     "metadata": {},
     "output_type": "execute_result"
    }
   ],
   "source": [
    "target_test.shape"
   ]
  },
  {
   "cell_type": "code",
   "execution_count": 59,
   "id": "bd4b6e94",
   "metadata": {},
   "outputs": [
    {
     "name": "stdout",
     "output_type": "stream",
     "text": [
      "Test loss before training 0.5843700766563416\n"
     ]
    }
   ],
   "source": [
    "M0.eval()     #not updating the model weights\n",
    "data_test = Variable(test_x_std).float()\n",
    "target_test = Variable(test_y).type(torch.FloatTensor)\n",
    "y_pred_test = M0(data_test)\n",
    "before_train = criterion(y_pred_test.squeeze(), target_test.squeeze()) \n",
    "print('Test loss before training' , before_train.item())"
   ]
  },
  {
   "cell_type": "markdown",
   "id": "db08c2ef",
   "metadata": {},
   "source": [
    "**--Model Trainning**"
   ]
  },
  {
   "cell_type": "code",
   "execution_count": 60,
   "id": "d0b753e1",
   "metadata": {},
   "outputs": [
    {
     "name": "stdout",
     "output_type": "stream",
     "text": [
      "Epoch [10/1000], Loss: 0.5157\n",
      "Epoch [20/1000], Loss: 0.4722\n",
      "Epoch [30/1000], Loss: 0.4562\n",
      "Epoch [40/1000], Loss: 0.4455\n",
      "Epoch [50/1000], Loss: 0.4367\n",
      "Epoch [60/1000], Loss: 0.4305\n",
      "Epoch [70/1000], Loss: 0.4268\n",
      "Epoch [80/1000], Loss: 0.4229\n",
      "Epoch [90/1000], Loss: 0.4164\n",
      "Epoch [100/1000], Loss: 0.4080\n",
      "Epoch [110/1000], Loss: 0.4004\n",
      "Epoch [120/1000], Loss: 0.3937\n",
      "Epoch [130/1000], Loss: 0.3862\n",
      "Epoch [140/1000], Loss: 0.3790\n",
      "Epoch [150/1000], Loss: 0.3731\n",
      "Epoch [160/1000], Loss: 0.3679\n",
      "Epoch [170/1000], Loss: 0.3633\n",
      "Epoch [180/1000], Loss: 0.3597\n",
      "Epoch [190/1000], Loss: 0.3564\n",
      "Epoch [200/1000], Loss: 0.3538\n",
      "Epoch [210/1000], Loss: 0.3516\n",
      "Epoch [220/1000], Loss: 0.3499\n",
      "Epoch [230/1000], Loss: 0.3481\n",
      "Epoch [240/1000], Loss: 0.3428\n",
      "Epoch [250/1000], Loss: 0.3390\n",
      "Epoch [260/1000], Loss: 0.3379\n",
      "Epoch [270/1000], Loss: 0.3372\n",
      "Epoch [280/1000], Loss: 0.3367\n",
      "Epoch [290/1000], Loss: 0.3364\n",
      "Epoch [300/1000], Loss: 0.3362\n",
      "Epoch [310/1000], Loss: 0.3361\n",
      "Epoch [320/1000], Loss: 0.3359\n",
      "Epoch [330/1000], Loss: 0.3359\n",
      "Epoch [340/1000], Loss: 0.3358\n",
      "Epoch [350/1000], Loss: 0.3358\n",
      "Epoch [360/1000], Loss: 0.3357\n",
      "Epoch [370/1000], Loss: 0.3357\n",
      "Epoch [380/1000], Loss: 0.3356\n",
      "Epoch [390/1000], Loss: 0.3356\n",
      "Epoch [400/1000], Loss: 0.3355\n",
      "Epoch [410/1000], Loss: 0.3355\n",
      "Epoch [420/1000], Loss: 0.3354\n",
      "Epoch [430/1000], Loss: 0.3354\n",
      "Epoch [440/1000], Loss: 0.3354\n",
      "Epoch [450/1000], Loss: 0.3353\n",
      "Epoch [460/1000], Loss: 0.3353\n",
      "Epoch [470/1000], Loss: 0.3353\n",
      "Epoch [480/1000], Loss: 0.3353\n",
      "Epoch [490/1000], Loss: 0.3353\n",
      "Epoch [500/1000], Loss: 0.3353\n",
      "Epoch [510/1000], Loss: 0.3352\n",
      "Epoch [520/1000], Loss: 0.3352\n",
      "Epoch [530/1000], Loss: 0.3352\n",
      "Epoch [540/1000], Loss: 0.3352\n",
      "Epoch [550/1000], Loss: 0.3352\n",
      "Epoch [560/1000], Loss: 0.3352\n",
      "Epoch [570/1000], Loss: 0.3352\n",
      "Epoch [580/1000], Loss: 0.3352\n",
      "Epoch [590/1000], Loss: 0.3352\n",
      "Epoch [600/1000], Loss: 0.3352\n",
      "Epoch [610/1000], Loss: 0.3352\n",
      "Epoch [620/1000], Loss: 0.3352\n",
      "Epoch [630/1000], Loss: 0.3352\n",
      "Epoch [640/1000], Loss: 0.3352\n",
      "Epoch [650/1000], Loss: 0.3351\n",
      "Epoch [660/1000], Loss: 0.3351\n",
      "Epoch [670/1000], Loss: 0.3351\n",
      "Epoch [680/1000], Loss: 0.3350\n",
      "Epoch [690/1000], Loss: 0.3350\n",
      "Epoch [700/1000], Loss: 0.3350\n",
      "Epoch [710/1000], Loss: 0.3350\n",
      "Epoch [720/1000], Loss: 0.3349\n",
      "Epoch [730/1000], Loss: 0.3349\n",
      "Epoch [740/1000], Loss: 0.3349\n",
      "Epoch [750/1000], Loss: 0.3349\n",
      "Epoch [760/1000], Loss: 0.3349\n",
      "Epoch [770/1000], Loss: 0.3349\n",
      "Epoch [780/1000], Loss: 0.3349\n",
      "Epoch [790/1000], Loss: 0.3349\n",
      "Epoch [800/1000], Loss: 0.3349\n",
      "Epoch [810/1000], Loss: 0.3349\n",
      "Epoch [820/1000], Loss: 0.3349\n",
      "Epoch [830/1000], Loss: 0.3348\n",
      "Epoch [840/1000], Loss: 0.3348\n",
      "Epoch [850/1000], Loss: 0.3349\n",
      "Epoch [860/1000], Loss: 0.3348\n",
      "Epoch [870/1000], Loss: 0.3348\n",
      "Epoch [880/1000], Loss: 0.3348\n",
      "Epoch [890/1000], Loss: 0.3348\n",
      "Epoch [900/1000], Loss: 0.3348\n",
      "Epoch [910/1000], Loss: 0.3347\n",
      "Epoch [920/1000], Loss: 0.3347\n",
      "Epoch [930/1000], Loss: 0.3347\n",
      "Epoch [940/1000], Loss: 0.3347\n",
      "Epoch [950/1000], Loss: 0.3346\n",
      "Epoch [960/1000], Loss: 0.3346\n",
      "Epoch [970/1000], Loss: 0.3347\n",
      "Epoch [980/1000], Loss: 0.3346\n",
      "Epoch [990/1000], Loss: 0.3346\n",
      "Epoch [1000/1000], Loss: 0.3345\n"
     ]
    }
   ],
   "source": [
    "M0.train()\n",
    "for epoch in range(num_epochs):\n",
    "    data = Variable(train_x_std).float()\n",
    "    target = Variable(train_y).type(torch.FloatTensor)\n",
    "    \n",
    "    # Forward pass\n",
    "    outputs = M0(data)\n",
    "    loss = criterion(outputs, target)\n",
    "    \n",
    "    # Backward and optimize\n",
    "    optimizer.zero_grad()   #sets the gradients to zero before we start backpropagation. This is a necessary step as PyTorch accumulates the gradients from the backward passes from the previous epochs.\n",
    "    loss.backward() #we perform backward pass to computes the gradients.\n",
    "    optimizer.step() #updates the weights accordingly.\n",
    "    \n",
    "    if (epoch+1) % 10 == 0:\n",
    "        print('Epoch [{}/{}], Loss: {:.4f}'.format(epoch+1, num_epochs, loss.item()))"
   ]
  },
  {
   "cell_type": "markdown",
   "id": "1edc46d4",
   "metadata": {},
   "source": [
    "### Evaluation"
   ]
  },
  {
   "cell_type": "code",
   "execution_count": 62,
   "id": "a7d202e1",
   "metadata": {},
   "outputs": [
    {
     "name": "stdout",
     "output_type": "stream",
     "text": [
      "Test loss after training 0.325082391500473\n"
     ]
    }
   ],
   "source": [
    "M0.eval()\n",
    "data_test = Variable(test_x_std).float()\n",
    "target_test = Variable(test_y).type(torch.FloatTensor)\n",
    "y_pred_test = M0(data_test)\n",
    "before_train = criterion(y_pred_test.squeeze(), target_test.squeeze()) \n",
    "print('Test loss after training' , before_train.item())"
   ]
  },
  {
   "cell_type": "code",
   "execution_count": 65,
   "id": "78a64d28",
   "metadata": {},
   "outputs": [
    {
     "data": {
      "text/plain": [
       "0.8711347676806018"
      ]
     },
     "execution_count": 65,
     "metadata": {},
     "output_type": "execute_result"
    }
   ],
   "source": [
    "roc_auc_score(test_y,y_pred_test.squeeze().detach().numpy())"
   ]
  },
  {
   "cell_type": "code",
   "execution_count": 69,
   "id": "f050582f",
   "metadata": {},
   "outputs": [],
   "source": [
    "pred = y_pred_test.squeeze().detach().numpy() > 0.2"
   ]
  },
  {
   "cell_type": "code",
   "execution_count": 70,
   "id": "6fefe9cc",
   "metadata": {},
   "outputs": [
    {
     "data": {
      "text/plain": [
       "array([[1876,  519],\n",
       "       [ 130,  475]], dtype=int64)"
      ]
     },
     "execution_count": 70,
     "metadata": {},
     "output_type": "execute_result"
    }
   ],
   "source": [
    "confusion_matrix(test_y,pred)"
   ]
  },
  {
   "cell_type": "code",
   "execution_count": 72,
   "id": "0710b512",
   "metadata": {},
   "outputs": [
    {
     "name": "stdout",
     "output_type": "stream",
     "text": [
      "              precision    recall  f1-score   support\n",
      "\n",
      "           0       0.94      0.78      0.85      2395\n",
      "           1       0.48      0.79      0.59       605\n",
      "\n",
      "    accuracy                           0.78      3000\n",
      "   macro avg       0.71      0.78      0.72      3000\n",
      "weighted avg       0.84      0.78      0.80      3000\n",
      "\n"
     ]
    }
   ],
   "source": [
    "print(classification_report(test_y,pred))"
   ]
  },
  {
   "cell_type": "markdown",
   "id": "eb529205",
   "metadata": {},
   "source": [
    "### Batch Processing "
   ]
  },
  {
   "cell_type": "code",
   "execution_count": 74,
   "id": "b1d42483",
   "metadata": {},
   "outputs": [],
   "source": [
    "# Make torch datasets from train and test sets\n",
    "train = torch.utils.data.TensorDataset(train_x_std,train_y)\n",
    "test = torch.utils.data.TensorDataset(test_x_std,test_y)"
   ]
  },
  {
   "cell_type": "code",
   "execution_count": 75,
   "id": "8ad14df3",
   "metadata": {},
   "outputs": [],
   "source": [
    "# Create train and test data loaders for batch processing\n",
    "train_loader = torch.utils.data.DataLoader(train, batch_size = 10, shuffle = True)\n",
    "test_loader = torch.utils.data.DataLoader(test, batch_size = 10, shuffle = True)"
   ]
  },
  {
   "cell_type": "code",
   "execution_count": 77,
   "id": "90f8952d",
   "metadata": {},
   "outputs": [],
   "source": [
    "# Hyper-parameters\n",
    "input_size = 11\n",
    "output_size = 1\n",
    "num_epochs = 20\n",
    "learning_rate = 0.01"
   ]
  },
  {
   "cell_type": "code",
   "execution_count": 78,
   "id": "103cb4ef",
   "metadata": {},
   "outputs": [
    {
     "name": "stdout",
     "output_type": "stream",
     "text": [
      "ANN(\n",
      "  (fc1): Linear(in_features=11, out_features=6, bias=True)\n",
      "  (fc2): Linear(in_features=6, out_features=6, bias=True)\n",
      "  (output_layer): Linear(in_features=6, out_features=1, bias=True)\n",
      ")\n"
     ]
    }
   ],
   "source": [
    "M0 = ANN(input_dim=input_size,output_dim=output_size)\n",
    "print(M0)"
   ]
  },
  {
   "cell_type": "code",
   "execution_count": 79,
   "id": "e776164b",
   "metadata": {},
   "outputs": [
    {
     "name": "stdout",
     "output_type": "stream",
     "text": [
      "Epoch [1/20], Loss: 0.6456\n",
      "Epoch [2/20], Loss: 0.6456\n",
      "Epoch [3/20], Loss: 0.6456\n",
      "Epoch [4/20], Loss: 0.6456\n",
      "Epoch [5/20], Loss: 0.6456\n",
      "Epoch [6/20], Loss: 0.6456\n",
      "Epoch [7/20], Loss: 0.6456\n",
      "Epoch [8/20], Loss: 0.6456\n",
      "Epoch [9/20], Loss: 0.6456\n",
      "Epoch [10/20], Loss: 0.6456\n",
      "Epoch [11/20], Loss: 0.6456\n",
      "Epoch [12/20], Loss: 0.6456\n",
      "Epoch [13/20], Loss: 0.6456\n",
      "Epoch [14/20], Loss: 0.6456\n",
      "Epoch [15/20], Loss: 0.6456\n",
      "Epoch [16/20], Loss: 0.6456\n",
      "Epoch [17/20], Loss: 0.6456\n",
      "Epoch [18/20], Loss: 0.6456\n",
      "Epoch [19/20], Loss: 0.6456\n",
      "Epoch [20/20], Loss: 0.6456\n"
     ]
    }
   ],
   "source": [
    "M0.train()\n",
    "epoch_list = []\n",
    "train_loss_list = []\n",
    "\n",
    "for epoch in range(num_epochs):\n",
    "    # monitor training loss\n",
    "    train_loss = 0.0\n",
    "    val_loss = 0.0\n",
    "    \n",
    "    for data,target in train_loader:\n",
    "        data = Variable(data).float()\n",
    "        target = Variable(target).type(torch.FloatTensor)\n",
    "    \n",
    "        # Forward pass\n",
    "        outputs = M0(data)\n",
    "        loss = criterion(outputs, target)\n",
    "    \n",
    "        # Backward and optimize\n",
    "        optimizer.zero_grad()   #sets the gradients to zero before we start backpropagation. This is a necessary step as PyTorch accumulates the gradients from the backward passes from the previous epochs.\n",
    "        loss.backward() #we perform backward pass to computes the gradients.\n",
    "        optimizer.step() #updates the weights accordingly.\n",
    "        train_loss += loss.item()*data.size(0)\n",
    "    # calculate average training loss over an epoch\n",
    "    train_loss = train_loss/len(train_loader.dataset)\n",
    "    train_loss_list.append(train_loss)\n",
    "    epoch_list.append(epoch + 1)\n",
    "    \n",
    "    #if (epoch+1) % 5 == 0:\n",
    "    print ('Epoch [{}/{}], Loss: {:.4f}'.format(epoch+1, num_epochs, train_loss))"
   ]
  },
  {
   "cell_type": "markdown",
   "id": "07d5abe2",
   "metadata": {},
   "source": [
    "### Evaluation"
   ]
  },
  {
   "cell_type": "code",
   "execution_count": 81,
   "id": "dc4036a3",
   "metadata": {},
   "outputs": [
    {
     "name": "stdout",
     "output_type": "stream",
     "text": [
      "Test loss after training 0.644707202911377\n"
     ]
    }
   ],
   "source": [
    "M0.eval()\n",
    "data_test = Variable(test_x_std).float()\n",
    "target_test = Variable(test_y).type(torch.FloatTensor)\n",
    "y_pred_test = M0(data_test)\n",
    "before_train = criterion(y_pred_test.squeeze(), target_test.squeeze()) \n",
    "print('Test loss after training' , before_train.item())"
   ]
  },
  {
   "cell_type": "code",
   "execution_count": 82,
   "id": "76fab96d",
   "metadata": {},
   "outputs": [
    {
     "data": {
      "text/plain": [
       "0.4255815317724599"
      ]
     },
     "execution_count": 82,
     "metadata": {},
     "output_type": "execute_result"
    }
   ],
   "source": [
    "roc_auc_score(test_y,y_pred_test.squeeze().detach().numpy())"
   ]
  },
  {
   "cell_type": "code",
   "execution_count": 83,
   "id": "20519204",
   "metadata": {},
   "outputs": [],
   "source": [
    "pred = y_pred_test.squeeze().detach().numpy() > 0.2"
   ]
  },
  {
   "cell_type": "code",
   "execution_count": 84,
   "id": "59db805f",
   "metadata": {},
   "outputs": [
    {
     "data": {
      "text/plain": [
       "array([[   0, 2395],\n",
       "       [   0,  605]], dtype=int64)"
      ]
     },
     "execution_count": 84,
     "metadata": {},
     "output_type": "execute_result"
    }
   ],
   "source": [
    "confusion_matrix(test_y,pred)"
   ]
  },
  {
   "cell_type": "code",
   "execution_count": 85,
   "id": "959aa5e8",
   "metadata": {},
   "outputs": [
    {
     "name": "stdout",
     "output_type": "stream",
     "text": [
      "              precision    recall  f1-score   support\n",
      "\n",
      "           0       0.00      0.00      0.00      2395\n",
      "           1       0.20      1.00      0.34       605\n",
      "\n",
      "    accuracy                           0.20      3000\n",
      "   macro avg       0.10      0.50      0.17      3000\n",
      "weighted avg       0.04      0.20      0.07      3000\n",
      "\n"
     ]
    },
    {
     "name": "stderr",
     "output_type": "stream",
     "text": [
      "C:\\Users\\Nithin\\anaconda3\\lib\\site-packages\\sklearn\\metrics\\_classification.py:1344: UndefinedMetricWarning: Precision and F-score are ill-defined and being set to 0.0 in labels with no predicted samples. Use `zero_division` parameter to control this behavior.\n",
      "  _warn_prf(average, modifier, msg_start, len(result))\n",
      "C:\\Users\\Nithin\\anaconda3\\lib\\site-packages\\sklearn\\metrics\\_classification.py:1344: UndefinedMetricWarning: Precision and F-score are ill-defined and being set to 0.0 in labels with no predicted samples. Use `zero_division` parameter to control this behavior.\n",
      "  _warn_prf(average, modifier, msg_start, len(result))\n",
      "C:\\Users\\Nithin\\anaconda3\\lib\\site-packages\\sklearn\\metrics\\_classification.py:1344: UndefinedMetricWarning: Precision and F-score are ill-defined and being set to 0.0 in labels with no predicted samples. Use `zero_division` parameter to control this behavior.\n",
      "  _warn_prf(average, modifier, msg_start, len(result))\n"
     ]
    }
   ],
   "source": [
    "print(classification_report(test_y,pred))"
   ]
  },
  {
   "cell_type": "code",
   "execution_count": null,
   "id": "70195496",
   "metadata": {},
   "outputs": [],
   "source": [
    "### Evaluation\n",
    "\n",
    "M0.eval()\n",
    "data_test = Variable(test_x_std).float()\n",
    "target_test = Variable(test_y).type(torch.FloatTensor)\n",
    "y_pred_test = M0(data_test)\n",
    "before_train = criterion(y_pred_test.squeeze(), target_test.squeeze()) \n",
    "print('Test loss after training' , before_train.item())\n",
    "\n",
    "roc_auc_score(test_y,y_pred_test.squeeze().detach().numpy())\n",
    "\n",
    "pred = y_pred_test.squeeze().detach().numpy() > 0.2\n",
    "\n",
    "confusion_matrix(test_y,pred)\n",
    "\n",
    "print(classification_report(test_y,pred))"
   ]
  }
 ],
 "metadata": {
  "kernelspec": {
   "display_name": "Python 3 (ipykernel)",
   "language": "python",
   "name": "python3"
  },
  "language_info": {
   "codemirror_mode": {
    "name": "ipython",
    "version": 3
   },
   "file_extension": ".py",
   "mimetype": "text/x-python",
   "name": "python",
   "nbconvert_exporter": "python",
   "pygments_lexer": "ipython3",
   "version": "3.9.7"
  }
 },
 "nbformat": 4,
 "nbformat_minor": 5
}
